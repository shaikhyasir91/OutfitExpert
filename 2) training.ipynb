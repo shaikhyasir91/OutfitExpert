{
  "cells": [
    {
      "cell_type": "code",
      "execution_count": null,
      "metadata": {
        "id": "HHUz-FIyQtbr"
      },
      "outputs": [],
      "source": [
        "from train_module import *\n",
        "\n",
        "import tensorflow as tf\n",
        "from tensorflow import keras\n",
        "from tensorflow.keras.preprocessing import image\n",
        "from tensorflow.keras.preprocessing.image import ImageDataGenerator\n",
        "\n",
        "import tensorflow as tf\n",
        "from tensorflow.keras import layers\n",
        "from tensorflow.keras import losses\n",
        "from tensorflow import keras\n",
        "\n",
        "from tensorflow.keras.preprocessing import image\n",
        "\n",
        "from tensorflow.keras.layers.experimental.preprocessing import TextVectorization\n",
        "from tensorflow.keras.layers.experimental.preprocessing import StringLookup\n",
        "\n",
        "from sklearn.model_selection import train_test_split\n",
        "from sklearn.preprocessing import LabelEncoder\n",
        "\n",
        "import numpy as np\n",
        "import matplotlib.pyplot as plt\n",
        "import pandas as pd\n",
        "\n",
        "import cv2\n",
        "\n",
        "import matplotlib.image as mpimg\n"
      ]
    },
    {
      "cell_type": "code",
      "source": [
        "# from google.colab import drive\n",
        "# drive.mount('/content/drive')"
      ],
      "metadata": {
        "id": "-PRpe-sihc-5"
      },
      "execution_count": null,
      "outputs": []
    },
    {
      "cell_type": "code",
      "execution_count": null,
      "metadata": {
        "id": "VV5HDg7nSGYL",
        "colab": {
          "base_uri": "https://localhost:8080/"
        },
        "outputId": "61408a3d-73b1-4537-ffc6-0114833d501a"
      },
      "outputs": [
        {
          "output_type": "stream",
          "name": "stdout",
          "text": [
            "Done\n"
          ]
        }
      ],
      "source": [
        "# from zipfile import ZipFile\n",
        "# file_name = \"/content/drive/MyDrive/Dataset/archive (3).zip\"\n",
        "\n",
        "# with ZipFile(file_name, 'r') as zip:\n",
        "#   zip.extractall()\n",
        "#   print('Done')"
      ]
    },
    {
      "cell_type": "code",
      "execution_count": null,
      "metadata": {
        "colab": {
          "base_uri": "https://localhost:8080/",
          "height": 423
        },
        "id": "QiAox0rVW2tM",
        "outputId": "0ce1ac2b-fb8d-42da-a184-36e98b772282"
      },
      "outputs": [
        {
          "output_type": "execute_result",
          "data": {
            "text/plain": [
              "          id gender masterCategory subCategory   articleType baseColour  \\\n",
              "0      15970    Men        Apparel     Topwear        Shirts  Navy Blue   \n",
              "1      39386    Men        Apparel  Bottomwear         Jeans       Blue   \n",
              "3      21379    Men        Apparel  Bottomwear   Track Pants      Black   \n",
              "4      53759    Men        Apparel     Topwear       Tshirts       Grey   \n",
              "5       1855    Men        Apparel     Topwear       Tshirts       Grey   \n",
              "...      ...    ...            ...         ...           ...        ...   \n",
              "44417  12544  Women        Apparel     Topwear       Tshirts      Peach   \n",
              "44418  42234  Women        Apparel     Topwear          Tops       Blue   \n",
              "44419  17036    Men       Footwear    Footwear  Casual Shoes      White   \n",
              "44420   6461    Men       Footwear    Footwear    Flip Flops        Red   \n",
              "44421  18842    Men        Apparel     Topwear       Tshirts       Blue   \n",
              "\n",
              "       season   usage  colorgroup  \n",
              "0        Fall  Casual           9  \n",
              "1      Summer  Casual           8  \n",
              "3        Fall  Casual          12  \n",
              "4      Summer  Casual          14  \n",
              "5      Summer  Casual          14  \n",
              "...       ...     ...         ...  \n",
              "44417    Fall  Casual          11  \n",
              "44418  Summer  Casual           8  \n",
              "44419  Summer  Casual          13  \n",
              "44420  Summer  Casual           0  \n",
              "44421    Fall  Casual           8  \n",
              "\n",
              "[27265 rows x 9 columns]"
            ],
            "text/html": [
              "\n",
              "  <div id=\"df-5959540a-7f1f-4d52-b0da-5ce29a89ca5c\" class=\"colab-df-container\">\n",
              "    <div>\n",
              "<style scoped>\n",
              "    .dataframe tbody tr th:only-of-type {\n",
              "        vertical-align: middle;\n",
              "    }\n",
              "\n",
              "    .dataframe tbody tr th {\n",
              "        vertical-align: top;\n",
              "    }\n",
              "\n",
              "    .dataframe thead th {\n",
              "        text-align: right;\n",
              "    }\n",
              "</style>\n",
              "<table border=\"1\" class=\"dataframe\">\n",
              "  <thead>\n",
              "    <tr style=\"text-align: right;\">\n",
              "      <th></th>\n",
              "      <th>id</th>\n",
              "      <th>gender</th>\n",
              "      <th>masterCategory</th>\n",
              "      <th>subCategory</th>\n",
              "      <th>articleType</th>\n",
              "      <th>baseColour</th>\n",
              "      <th>season</th>\n",
              "      <th>usage</th>\n",
              "      <th>colorgroup</th>\n",
              "    </tr>\n",
              "  </thead>\n",
              "  <tbody>\n",
              "    <tr>\n",
              "      <th>0</th>\n",
              "      <td>15970</td>\n",
              "      <td>Men</td>\n",
              "      <td>Apparel</td>\n",
              "      <td>Topwear</td>\n",
              "      <td>Shirts</td>\n",
              "      <td>Navy Blue</td>\n",
              "      <td>Fall</td>\n",
              "      <td>Casual</td>\n",
              "      <td>9</td>\n",
              "    </tr>\n",
              "    <tr>\n",
              "      <th>1</th>\n",
              "      <td>39386</td>\n",
              "      <td>Men</td>\n",
              "      <td>Apparel</td>\n",
              "      <td>Bottomwear</td>\n",
              "      <td>Jeans</td>\n",
              "      <td>Blue</td>\n",
              "      <td>Summer</td>\n",
              "      <td>Casual</td>\n",
              "      <td>8</td>\n",
              "    </tr>\n",
              "    <tr>\n",
              "      <th>3</th>\n",
              "      <td>21379</td>\n",
              "      <td>Men</td>\n",
              "      <td>Apparel</td>\n",
              "      <td>Bottomwear</td>\n",
              "      <td>Track Pants</td>\n",
              "      <td>Black</td>\n",
              "      <td>Fall</td>\n",
              "      <td>Casual</td>\n",
              "      <td>12</td>\n",
              "    </tr>\n",
              "    <tr>\n",
              "      <th>4</th>\n",
              "      <td>53759</td>\n",
              "      <td>Men</td>\n",
              "      <td>Apparel</td>\n",
              "      <td>Topwear</td>\n",
              "      <td>Tshirts</td>\n",
              "      <td>Grey</td>\n",
              "      <td>Summer</td>\n",
              "      <td>Casual</td>\n",
              "      <td>14</td>\n",
              "    </tr>\n",
              "    <tr>\n",
              "      <th>5</th>\n",
              "      <td>1855</td>\n",
              "      <td>Men</td>\n",
              "      <td>Apparel</td>\n",
              "      <td>Topwear</td>\n",
              "      <td>Tshirts</td>\n",
              "      <td>Grey</td>\n",
              "      <td>Summer</td>\n",
              "      <td>Casual</td>\n",
              "      <td>14</td>\n",
              "    </tr>\n",
              "    <tr>\n",
              "      <th>...</th>\n",
              "      <td>...</td>\n",
              "      <td>...</td>\n",
              "      <td>...</td>\n",
              "      <td>...</td>\n",
              "      <td>...</td>\n",
              "      <td>...</td>\n",
              "      <td>...</td>\n",
              "      <td>...</td>\n",
              "      <td>...</td>\n",
              "    </tr>\n",
              "    <tr>\n",
              "      <th>44417</th>\n",
              "      <td>12544</td>\n",
              "      <td>Women</td>\n",
              "      <td>Apparel</td>\n",
              "      <td>Topwear</td>\n",
              "      <td>Tshirts</td>\n",
              "      <td>Peach</td>\n",
              "      <td>Fall</td>\n",
              "      <td>Casual</td>\n",
              "      <td>11</td>\n",
              "    </tr>\n",
              "    <tr>\n",
              "      <th>44418</th>\n",
              "      <td>42234</td>\n",
              "      <td>Women</td>\n",
              "      <td>Apparel</td>\n",
              "      <td>Topwear</td>\n",
              "      <td>Tops</td>\n",
              "      <td>Blue</td>\n",
              "      <td>Summer</td>\n",
              "      <td>Casual</td>\n",
              "      <td>8</td>\n",
              "    </tr>\n",
              "    <tr>\n",
              "      <th>44419</th>\n",
              "      <td>17036</td>\n",
              "      <td>Men</td>\n",
              "      <td>Footwear</td>\n",
              "      <td>Footwear</td>\n",
              "      <td>Casual Shoes</td>\n",
              "      <td>White</td>\n",
              "      <td>Summer</td>\n",
              "      <td>Casual</td>\n",
              "      <td>13</td>\n",
              "    </tr>\n",
              "    <tr>\n",
              "      <th>44420</th>\n",
              "      <td>6461</td>\n",
              "      <td>Men</td>\n",
              "      <td>Footwear</td>\n",
              "      <td>Footwear</td>\n",
              "      <td>Flip Flops</td>\n",
              "      <td>Red</td>\n",
              "      <td>Summer</td>\n",
              "      <td>Casual</td>\n",
              "      <td>0</td>\n",
              "    </tr>\n",
              "    <tr>\n",
              "      <th>44421</th>\n",
              "      <td>18842</td>\n",
              "      <td>Men</td>\n",
              "      <td>Apparel</td>\n",
              "      <td>Topwear</td>\n",
              "      <td>Tshirts</td>\n",
              "      <td>Blue</td>\n",
              "      <td>Fall</td>\n",
              "      <td>Casual</td>\n",
              "      <td>8</td>\n",
              "    </tr>\n",
              "  </tbody>\n",
              "</table>\n",
              "<p>27265 rows × 9 columns</p>\n",
              "</div>\n",
              "    <div class=\"colab-df-buttons\">\n",
              "\n",
              "  <div class=\"colab-df-container\">\n",
              "    <button class=\"colab-df-convert\" onclick=\"convertToInteractive('df-5959540a-7f1f-4d52-b0da-5ce29a89ca5c')\"\n",
              "            title=\"Convert this dataframe to an interactive table.\"\n",
              "            style=\"display:none;\">\n",
              "\n",
              "  <svg xmlns=\"http://www.w3.org/2000/svg\" height=\"24px\" viewBox=\"0 -960 960 960\">\n",
              "    <path d=\"M120-120v-720h720v720H120Zm60-500h600v-160H180v160Zm220 220h160v-160H400v160Zm0 220h160v-160H400v160ZM180-400h160v-160H180v160Zm440 0h160v-160H620v160ZM180-180h160v-160H180v160Zm440 0h160v-160H620v160Z\"/>\n",
              "  </svg>\n",
              "    </button>\n",
              "\n",
              "  <style>\n",
              "    .colab-df-container {\n",
              "      display:flex;\n",
              "      gap: 12px;\n",
              "    }\n",
              "\n",
              "    .colab-df-convert {\n",
              "      background-color: #E8F0FE;\n",
              "      border: none;\n",
              "      border-radius: 50%;\n",
              "      cursor: pointer;\n",
              "      display: none;\n",
              "      fill: #1967D2;\n",
              "      height: 32px;\n",
              "      padding: 0 0 0 0;\n",
              "      width: 32px;\n",
              "    }\n",
              "\n",
              "    .colab-df-convert:hover {\n",
              "      background-color: #E2EBFA;\n",
              "      box-shadow: 0px 1px 2px rgba(60, 64, 67, 0.3), 0px 1px 3px 1px rgba(60, 64, 67, 0.15);\n",
              "      fill: #174EA6;\n",
              "    }\n",
              "\n",
              "    .colab-df-buttons div {\n",
              "      margin-bottom: 4px;\n",
              "    }\n",
              "\n",
              "    [theme=dark] .colab-df-convert {\n",
              "      background-color: #3B4455;\n",
              "      fill: #D2E3FC;\n",
              "    }\n",
              "\n",
              "    [theme=dark] .colab-df-convert:hover {\n",
              "      background-color: #434B5C;\n",
              "      box-shadow: 0px 1px 3px 1px rgba(0, 0, 0, 0.15);\n",
              "      filter: drop-shadow(0px 1px 2px rgba(0, 0, 0, 0.3));\n",
              "      fill: #FFFFFF;\n",
              "    }\n",
              "  </style>\n",
              "\n",
              "    <script>\n",
              "      const buttonEl =\n",
              "        document.querySelector('#df-5959540a-7f1f-4d52-b0da-5ce29a89ca5c button.colab-df-convert');\n",
              "      buttonEl.style.display =\n",
              "        google.colab.kernel.accessAllowed ? 'block' : 'none';\n",
              "\n",
              "      async function convertToInteractive(key) {\n",
              "        const element = document.querySelector('#df-5959540a-7f1f-4d52-b0da-5ce29a89ca5c');\n",
              "        const dataTable =\n",
              "          await google.colab.kernel.invokeFunction('convertToInteractive',\n",
              "                                                    [key], {});\n",
              "        if (!dataTable) return;\n",
              "\n",
              "        const docLinkHtml = 'Like what you see? Visit the ' +\n",
              "          '<a target=\"_blank\" href=https://colab.research.google.com/notebooks/data_table.ipynb>data table notebook</a>'\n",
              "          + ' to learn more about interactive tables.';\n",
              "        element.innerHTML = '';\n",
              "        dataTable['output_type'] = 'display_data';\n",
              "        await google.colab.output.renderOutput(dataTable, element);\n",
              "        const docLink = document.createElement('div');\n",
              "        docLink.innerHTML = docLinkHtml;\n",
              "        element.appendChild(docLink);\n",
              "      }\n",
              "    </script>\n",
              "  </div>\n",
              "\n",
              "\n",
              "<div id=\"df-41ea8caf-8ad7-49d0-90fc-4f08ae0e7fe2\">\n",
              "  <button class=\"colab-df-quickchart\" onclick=\"quickchart('df-41ea8caf-8ad7-49d0-90fc-4f08ae0e7fe2')\"\n",
              "            title=\"Suggest charts\"\n",
              "            style=\"display:none;\">\n",
              "\n",
              "<svg xmlns=\"http://www.w3.org/2000/svg\" height=\"24px\"viewBox=\"0 0 24 24\"\n",
              "     width=\"24px\">\n",
              "    <g>\n",
              "        <path d=\"M19 3H5c-1.1 0-2 .9-2 2v14c0 1.1.9 2 2 2h14c1.1 0 2-.9 2-2V5c0-1.1-.9-2-2-2zM9 17H7v-7h2v7zm4 0h-2V7h2v10zm4 0h-2v-4h2v4z\"/>\n",
              "    </g>\n",
              "</svg>\n",
              "  </button>\n",
              "\n",
              "<style>\n",
              "  .colab-df-quickchart {\n",
              "      --bg-color: #E8F0FE;\n",
              "      --fill-color: #1967D2;\n",
              "      --hover-bg-color: #E2EBFA;\n",
              "      --hover-fill-color: #174EA6;\n",
              "      --disabled-fill-color: #AAA;\n",
              "      --disabled-bg-color: #DDD;\n",
              "  }\n",
              "\n",
              "  [theme=dark] .colab-df-quickchart {\n",
              "      --bg-color: #3B4455;\n",
              "      --fill-color: #D2E3FC;\n",
              "      --hover-bg-color: #434B5C;\n",
              "      --hover-fill-color: #FFFFFF;\n",
              "      --disabled-bg-color: #3B4455;\n",
              "      --disabled-fill-color: #666;\n",
              "  }\n",
              "\n",
              "  .colab-df-quickchart {\n",
              "    background-color: var(--bg-color);\n",
              "    border: none;\n",
              "    border-radius: 50%;\n",
              "    cursor: pointer;\n",
              "    display: none;\n",
              "    fill: var(--fill-color);\n",
              "    height: 32px;\n",
              "    padding: 0;\n",
              "    width: 32px;\n",
              "  }\n",
              "\n",
              "  .colab-df-quickchart:hover {\n",
              "    background-color: var(--hover-bg-color);\n",
              "    box-shadow: 0 1px 2px rgba(60, 64, 67, 0.3), 0 1px 3px 1px rgba(60, 64, 67, 0.15);\n",
              "    fill: var(--button-hover-fill-color);\n",
              "  }\n",
              "\n",
              "  .colab-df-quickchart-complete:disabled,\n",
              "  .colab-df-quickchart-complete:disabled:hover {\n",
              "    background-color: var(--disabled-bg-color);\n",
              "    fill: var(--disabled-fill-color);\n",
              "    box-shadow: none;\n",
              "  }\n",
              "\n",
              "  .colab-df-spinner {\n",
              "    border: 2px solid var(--fill-color);\n",
              "    border-color: transparent;\n",
              "    border-bottom-color: var(--fill-color);\n",
              "    animation:\n",
              "      spin 1s steps(1) infinite;\n",
              "  }\n",
              "\n",
              "  @keyframes spin {\n",
              "    0% {\n",
              "      border-color: transparent;\n",
              "      border-bottom-color: var(--fill-color);\n",
              "      border-left-color: var(--fill-color);\n",
              "    }\n",
              "    20% {\n",
              "      border-color: transparent;\n",
              "      border-left-color: var(--fill-color);\n",
              "      border-top-color: var(--fill-color);\n",
              "    }\n",
              "    30% {\n",
              "      border-color: transparent;\n",
              "      border-left-color: var(--fill-color);\n",
              "      border-top-color: var(--fill-color);\n",
              "      border-right-color: var(--fill-color);\n",
              "    }\n",
              "    40% {\n",
              "      border-color: transparent;\n",
              "      border-right-color: var(--fill-color);\n",
              "      border-top-color: var(--fill-color);\n",
              "    }\n",
              "    60% {\n",
              "      border-color: transparent;\n",
              "      border-right-color: var(--fill-color);\n",
              "    }\n",
              "    80% {\n",
              "      border-color: transparent;\n",
              "      border-right-color: var(--fill-color);\n",
              "      border-bottom-color: var(--fill-color);\n",
              "    }\n",
              "    90% {\n",
              "      border-color: transparent;\n",
              "      border-bottom-color: var(--fill-color);\n",
              "    }\n",
              "  }\n",
              "</style>\n",
              "\n",
              "  <script>\n",
              "    async function quickchart(key) {\n",
              "      const quickchartButtonEl =\n",
              "        document.querySelector('#' + key + ' button');\n",
              "      quickchartButtonEl.disabled = true;  // To prevent multiple clicks.\n",
              "      quickchartButtonEl.classList.add('colab-df-spinner');\n",
              "      try {\n",
              "        const charts = await google.colab.kernel.invokeFunction(\n",
              "            'suggestCharts', [key], {});\n",
              "      } catch (error) {\n",
              "        console.error('Error during call to suggestCharts:', error);\n",
              "      }\n",
              "      quickchartButtonEl.classList.remove('colab-df-spinner');\n",
              "      quickchartButtonEl.classList.add('colab-df-quickchart-complete');\n",
              "    }\n",
              "    (() => {\n",
              "      let quickchartButtonEl =\n",
              "        document.querySelector('#df-41ea8caf-8ad7-49d0-90fc-4f08ae0e7fe2 button');\n",
              "      quickchartButtonEl.style.display =\n",
              "        google.colab.kernel.accessAllowed ? 'block' : 'none';\n",
              "    })();\n",
              "  </script>\n",
              "</div>\n",
              "\n",
              "    </div>\n",
              "  </div>\n"
            ],
            "application/vnd.google.colaboratory.intrinsic+json": {
              "type": "dataframe",
              "summary": "{\n  \"name\": \"get_df()\",\n  \"rows\": 27265,\n  \"fields\": [\n    {\n      \"column\": \"id\",\n      \"properties\": {\n        \"dtype\": \"number\",\n        \"std\": 15970,\n        \"min\": 1163,\n        \"max\": 60000,\n        \"num_unique_values\": 27265,\n        \"samples\": [\n          31601,\n          4040,\n          24242\n        ],\n        \"semantic_type\": \"\",\n        \"description\": \"\"\n      }\n    },\n    {\n      \"column\": \"gender\",\n      \"properties\": {\n        \"dtype\": \"category\",\n        \"num_unique_values\": 5,\n        \"samples\": [\n          \"Women\",\n          \"Unisex\",\n          \"Boys\"\n        ],\n        \"semantic_type\": \"\",\n        \"description\": \"\"\n      }\n    },\n    {\n      \"column\": \"masterCategory\",\n      \"properties\": {\n        \"dtype\": \"category\",\n        \"num_unique_values\": 2,\n        \"samples\": [\n          \"Footwear\",\n          \"Apparel\"\n        ],\n        \"semantic_type\": \"\",\n        \"description\": \"\"\n      }\n    },\n    {\n      \"column\": \"subCategory\",\n      \"properties\": {\n        \"dtype\": \"category\",\n        \"num_unique_values\": 3,\n        \"samples\": [\n          \"Topwear\",\n          \"Bottomwear\"\n        ],\n        \"semantic_type\": \"\",\n        \"description\": \"\"\n      }\n    },\n    {\n      \"column\": \"articleType\",\n      \"properties\": {\n        \"dtype\": \"category\",\n        \"num_unique_values\": 44,\n        \"samples\": [\n          \"Salwar\",\n          \"Sports Sandals\"\n        ],\n        \"semantic_type\": \"\",\n        \"description\": \"\"\n      }\n    },\n    {\n      \"column\": \"baseColour\",\n      \"properties\": {\n        \"dtype\": \"category\",\n        \"num_unique_values\": 43,\n        \"samples\": [\n          \"Mauve\",\n          \"Tan\"\n        ],\n        \"semantic_type\": \"\",\n        \"description\": \"\"\n      }\n    },\n    {\n      \"column\": \"season\",\n      \"properties\": {\n        \"dtype\": \"category\",\n        \"num_unique_values\": 4,\n        \"samples\": [\n          \"Summer\",\n          \"Spring\"\n        ],\n        \"semantic_type\": \"\",\n        \"description\": \"\"\n      }\n    },\n    {\n      \"column\": \"usage\",\n      \"properties\": {\n        \"dtype\": \"category\",\n        \"num_unique_values\": 7,\n        \"samples\": [\n          \"Casual\",\n          \"Ethnic\"\n        ],\n        \"semantic_type\": \"\",\n        \"description\": \"\"\n      }\n    },\n    {\n      \"column\": \"colorgroup\",\n      \"properties\": {\n        \"dtype\": \"number\",\n        \"std\": 4,\n        \"min\": 0,\n        \"max\": 15,\n        \"num_unique_values\": 16,\n        \"samples\": [\n          9,\n          8\n        ],\n        \"semantic_type\": \"\",\n        \"description\": \"\"\n      }\n    }\n  ]\n}"
            }
          },
          "metadata": {},
          "execution_count": 3
        }
      ],
      "source": [
        "get_df()"
      ]
    },
    {
      "cell_type": "code",
      "execution_count": null,
      "metadata": {
        "colab": {
          "base_uri": "https://localhost:8080/"
        },
        "id": "lvAmBssVSyLi",
        "outputId": "10698a2e-68ba-44a7-cdcc-4cde87a54897"
      },
      "outputs": [
        {
          "output_type": "execute_result",
          "data": {
            "text/plain": [
              "array(['Topwear', 'Bottomwear', 'Footwear'], dtype=object)"
            ]
          },
          "metadata": {},
          "execution_count": 4
        }
      ],
      "source": [
        "styles = get_df()\n",
        "\n",
        "styles[\"subCategory\"].unique() # we can check by this code that we only have three subcategory now."
      ]
    },
    {
      "cell_type": "code",
      "execution_count": null,
      "metadata": {
        "colab": {
          "base_uri": "https://localhost:8080/",
          "height": 206
        },
        "id": "pX3QpdrzVsqW",
        "outputId": "73c63451-1e12-4310-9bd2-92944a3f4172"
      },
      "outputs": [
        {
          "output_type": "execute_result",
          "data": {
            "text/plain": [
              "      id gender masterCategory  subCategory  articleType baseColour  season  \\\n",
              "0  15970    Men        Apparel            2       Shirts  Navy Blue    Fall   \n",
              "1  39386    Men        Apparel            0        Jeans       Blue  Summer   \n",
              "3  21379    Men        Apparel            0  Track Pants      Black    Fall   \n",
              "4  53759    Men        Apparel            2      Tshirts       Grey  Summer   \n",
              "5   1855    Men        Apparel            2      Tshirts       Grey  Summer   \n",
              "\n",
              "    usage  colorgroup  \n",
              "0  Casual           9  \n",
              "1  Casual           8  \n",
              "3  Casual          12  \n",
              "4  Casual          14  \n",
              "5  Casual          14  "
            ],
            "text/html": [
              "\n",
              "  <div id=\"df-f3cdaa16-c922-4af0-ac8d-c7c5a6882a52\" class=\"colab-df-container\">\n",
              "    <div>\n",
              "<style scoped>\n",
              "    .dataframe tbody tr th:only-of-type {\n",
              "        vertical-align: middle;\n",
              "    }\n",
              "\n",
              "    .dataframe tbody tr th {\n",
              "        vertical-align: top;\n",
              "    }\n",
              "\n",
              "    .dataframe thead th {\n",
              "        text-align: right;\n",
              "    }\n",
              "</style>\n",
              "<table border=\"1\" class=\"dataframe\">\n",
              "  <thead>\n",
              "    <tr style=\"text-align: right;\">\n",
              "      <th></th>\n",
              "      <th>id</th>\n",
              "      <th>gender</th>\n",
              "      <th>masterCategory</th>\n",
              "      <th>subCategory</th>\n",
              "      <th>articleType</th>\n",
              "      <th>baseColour</th>\n",
              "      <th>season</th>\n",
              "      <th>usage</th>\n",
              "      <th>colorgroup</th>\n",
              "    </tr>\n",
              "  </thead>\n",
              "  <tbody>\n",
              "    <tr>\n",
              "      <th>0</th>\n",
              "      <td>15970</td>\n",
              "      <td>Men</td>\n",
              "      <td>Apparel</td>\n",
              "      <td>2</td>\n",
              "      <td>Shirts</td>\n",
              "      <td>Navy Blue</td>\n",
              "      <td>Fall</td>\n",
              "      <td>Casual</td>\n",
              "      <td>9</td>\n",
              "    </tr>\n",
              "    <tr>\n",
              "      <th>1</th>\n",
              "      <td>39386</td>\n",
              "      <td>Men</td>\n",
              "      <td>Apparel</td>\n",
              "      <td>0</td>\n",
              "      <td>Jeans</td>\n",
              "      <td>Blue</td>\n",
              "      <td>Summer</td>\n",
              "      <td>Casual</td>\n",
              "      <td>8</td>\n",
              "    </tr>\n",
              "    <tr>\n",
              "      <th>3</th>\n",
              "      <td>21379</td>\n",
              "      <td>Men</td>\n",
              "      <td>Apparel</td>\n",
              "      <td>0</td>\n",
              "      <td>Track Pants</td>\n",
              "      <td>Black</td>\n",
              "      <td>Fall</td>\n",
              "      <td>Casual</td>\n",
              "      <td>12</td>\n",
              "    </tr>\n",
              "    <tr>\n",
              "      <th>4</th>\n",
              "      <td>53759</td>\n",
              "      <td>Men</td>\n",
              "      <td>Apparel</td>\n",
              "      <td>2</td>\n",
              "      <td>Tshirts</td>\n",
              "      <td>Grey</td>\n",
              "      <td>Summer</td>\n",
              "      <td>Casual</td>\n",
              "      <td>14</td>\n",
              "    </tr>\n",
              "    <tr>\n",
              "      <th>5</th>\n",
              "      <td>1855</td>\n",
              "      <td>Men</td>\n",
              "      <td>Apparel</td>\n",
              "      <td>2</td>\n",
              "      <td>Tshirts</td>\n",
              "      <td>Grey</td>\n",
              "      <td>Summer</td>\n",
              "      <td>Casual</td>\n",
              "      <td>14</td>\n",
              "    </tr>\n",
              "  </tbody>\n",
              "</table>\n",
              "</div>\n",
              "    <div class=\"colab-df-buttons\">\n",
              "\n",
              "  <div class=\"colab-df-container\">\n",
              "    <button class=\"colab-df-convert\" onclick=\"convertToInteractive('df-f3cdaa16-c922-4af0-ac8d-c7c5a6882a52')\"\n",
              "            title=\"Convert this dataframe to an interactive table.\"\n",
              "            style=\"display:none;\">\n",
              "\n",
              "  <svg xmlns=\"http://www.w3.org/2000/svg\" height=\"24px\" viewBox=\"0 -960 960 960\">\n",
              "    <path d=\"M120-120v-720h720v720H120Zm60-500h600v-160H180v160Zm220 220h160v-160H400v160Zm0 220h160v-160H400v160ZM180-400h160v-160H180v160Zm440 0h160v-160H620v160ZM180-180h160v-160H180v160Zm440 0h160v-160H620v160Z\"/>\n",
              "  </svg>\n",
              "    </button>\n",
              "\n",
              "  <style>\n",
              "    .colab-df-container {\n",
              "      display:flex;\n",
              "      gap: 12px;\n",
              "    }\n",
              "\n",
              "    .colab-df-convert {\n",
              "      background-color: #E8F0FE;\n",
              "      border: none;\n",
              "      border-radius: 50%;\n",
              "      cursor: pointer;\n",
              "      display: none;\n",
              "      fill: #1967D2;\n",
              "      height: 32px;\n",
              "      padding: 0 0 0 0;\n",
              "      width: 32px;\n",
              "    }\n",
              "\n",
              "    .colab-df-convert:hover {\n",
              "      background-color: #E2EBFA;\n",
              "      box-shadow: 0px 1px 2px rgba(60, 64, 67, 0.3), 0px 1px 3px 1px rgba(60, 64, 67, 0.15);\n",
              "      fill: #174EA6;\n",
              "    }\n",
              "\n",
              "    .colab-df-buttons div {\n",
              "      margin-bottom: 4px;\n",
              "    }\n",
              "\n",
              "    [theme=dark] .colab-df-convert {\n",
              "      background-color: #3B4455;\n",
              "      fill: #D2E3FC;\n",
              "    }\n",
              "\n",
              "    [theme=dark] .colab-df-convert:hover {\n",
              "      background-color: #434B5C;\n",
              "      box-shadow: 0px 1px 3px 1px rgba(0, 0, 0, 0.15);\n",
              "      filter: drop-shadow(0px 1px 2px rgba(0, 0, 0, 0.3));\n",
              "      fill: #FFFFFF;\n",
              "    }\n",
              "  </style>\n",
              "\n",
              "    <script>\n",
              "      const buttonEl =\n",
              "        document.querySelector('#df-f3cdaa16-c922-4af0-ac8d-c7c5a6882a52 button.colab-df-convert');\n",
              "      buttonEl.style.display =\n",
              "        google.colab.kernel.accessAllowed ? 'block' : 'none';\n",
              "\n",
              "      async function convertToInteractive(key) {\n",
              "        const element = document.querySelector('#df-f3cdaa16-c922-4af0-ac8d-c7c5a6882a52');\n",
              "        const dataTable =\n",
              "          await google.colab.kernel.invokeFunction('convertToInteractive',\n",
              "                                                    [key], {});\n",
              "        if (!dataTable) return;\n",
              "\n",
              "        const docLinkHtml = 'Like what you see? Visit the ' +\n",
              "          '<a target=\"_blank\" href=https://colab.research.google.com/notebooks/data_table.ipynb>data table notebook</a>'\n",
              "          + ' to learn more about interactive tables.';\n",
              "        element.innerHTML = '';\n",
              "        dataTable['output_type'] = 'display_data';\n",
              "        await google.colab.output.renderOutput(dataTable, element);\n",
              "        const docLink = document.createElement('div');\n",
              "        docLink.innerHTML = docLinkHtml;\n",
              "        element.appendChild(docLink);\n",
              "      }\n",
              "    </script>\n",
              "  </div>\n",
              "\n",
              "\n",
              "<div id=\"df-1a482f63-3705-4b9a-b34a-0cc470ebddea\">\n",
              "  <button class=\"colab-df-quickchart\" onclick=\"quickchart('df-1a482f63-3705-4b9a-b34a-0cc470ebddea')\"\n",
              "            title=\"Suggest charts\"\n",
              "            style=\"display:none;\">\n",
              "\n",
              "<svg xmlns=\"http://www.w3.org/2000/svg\" height=\"24px\"viewBox=\"0 0 24 24\"\n",
              "     width=\"24px\">\n",
              "    <g>\n",
              "        <path d=\"M19 3H5c-1.1 0-2 .9-2 2v14c0 1.1.9 2 2 2h14c1.1 0 2-.9 2-2V5c0-1.1-.9-2-2-2zM9 17H7v-7h2v7zm4 0h-2V7h2v10zm4 0h-2v-4h2v4z\"/>\n",
              "    </g>\n",
              "</svg>\n",
              "  </button>\n",
              "\n",
              "<style>\n",
              "  .colab-df-quickchart {\n",
              "      --bg-color: #E8F0FE;\n",
              "      --fill-color: #1967D2;\n",
              "      --hover-bg-color: #E2EBFA;\n",
              "      --hover-fill-color: #174EA6;\n",
              "      --disabled-fill-color: #AAA;\n",
              "      --disabled-bg-color: #DDD;\n",
              "  }\n",
              "\n",
              "  [theme=dark] .colab-df-quickchart {\n",
              "      --bg-color: #3B4455;\n",
              "      --fill-color: #D2E3FC;\n",
              "      --hover-bg-color: #434B5C;\n",
              "      --hover-fill-color: #FFFFFF;\n",
              "      --disabled-bg-color: #3B4455;\n",
              "      --disabled-fill-color: #666;\n",
              "  }\n",
              "\n",
              "  .colab-df-quickchart {\n",
              "    background-color: var(--bg-color);\n",
              "    border: none;\n",
              "    border-radius: 50%;\n",
              "    cursor: pointer;\n",
              "    display: none;\n",
              "    fill: var(--fill-color);\n",
              "    height: 32px;\n",
              "    padding: 0;\n",
              "    width: 32px;\n",
              "  }\n",
              "\n",
              "  .colab-df-quickchart:hover {\n",
              "    background-color: var(--hover-bg-color);\n",
              "    box-shadow: 0 1px 2px rgba(60, 64, 67, 0.3), 0 1px 3px 1px rgba(60, 64, 67, 0.15);\n",
              "    fill: var(--button-hover-fill-color);\n",
              "  }\n",
              "\n",
              "  .colab-df-quickchart-complete:disabled,\n",
              "  .colab-df-quickchart-complete:disabled:hover {\n",
              "    background-color: var(--disabled-bg-color);\n",
              "    fill: var(--disabled-fill-color);\n",
              "    box-shadow: none;\n",
              "  }\n",
              "\n",
              "  .colab-df-spinner {\n",
              "    border: 2px solid var(--fill-color);\n",
              "    border-color: transparent;\n",
              "    border-bottom-color: var(--fill-color);\n",
              "    animation:\n",
              "      spin 1s steps(1) infinite;\n",
              "  }\n",
              "\n",
              "  @keyframes spin {\n",
              "    0% {\n",
              "      border-color: transparent;\n",
              "      border-bottom-color: var(--fill-color);\n",
              "      border-left-color: var(--fill-color);\n",
              "    }\n",
              "    20% {\n",
              "      border-color: transparent;\n",
              "      border-left-color: var(--fill-color);\n",
              "      border-top-color: var(--fill-color);\n",
              "    }\n",
              "    30% {\n",
              "      border-color: transparent;\n",
              "      border-left-color: var(--fill-color);\n",
              "      border-top-color: var(--fill-color);\n",
              "      border-right-color: var(--fill-color);\n",
              "    }\n",
              "    40% {\n",
              "      border-color: transparent;\n",
              "      border-right-color: var(--fill-color);\n",
              "      border-top-color: var(--fill-color);\n",
              "    }\n",
              "    60% {\n",
              "      border-color: transparent;\n",
              "      border-right-color: var(--fill-color);\n",
              "    }\n",
              "    80% {\n",
              "      border-color: transparent;\n",
              "      border-right-color: var(--fill-color);\n",
              "      border-bottom-color: var(--fill-color);\n",
              "    }\n",
              "    90% {\n",
              "      border-color: transparent;\n",
              "      border-bottom-color: var(--fill-color);\n",
              "    }\n",
              "  }\n",
              "</style>\n",
              "\n",
              "  <script>\n",
              "    async function quickchart(key) {\n",
              "      const quickchartButtonEl =\n",
              "        document.querySelector('#' + key + ' button');\n",
              "      quickchartButtonEl.disabled = true;  // To prevent multiple clicks.\n",
              "      quickchartButtonEl.classList.add('colab-df-spinner');\n",
              "      try {\n",
              "        const charts = await google.colab.kernel.invokeFunction(\n",
              "            'suggestCharts', [key], {});\n",
              "      } catch (error) {\n",
              "        console.error('Error during call to suggestCharts:', error);\n",
              "      }\n",
              "      quickchartButtonEl.classList.remove('colab-df-spinner');\n",
              "      quickchartButtonEl.classList.add('colab-df-quickchart-complete');\n",
              "    }\n",
              "    (() => {\n",
              "      let quickchartButtonEl =\n",
              "        document.querySelector('#df-1a482f63-3705-4b9a-b34a-0cc470ebddea button');\n",
              "      quickchartButtonEl.style.display =\n",
              "        google.colab.kernel.accessAllowed ? 'block' : 'none';\n",
              "    })();\n",
              "  </script>\n",
              "</div>\n",
              "\n",
              "    </div>\n",
              "  </div>\n"
            ],
            "application/vnd.google.colaboratory.intrinsic+json": {
              "type": "dataframe",
              "variable_name": "styles",
              "summary": "{\n  \"name\": \"styles\",\n  \"rows\": 27265,\n  \"fields\": [\n    {\n      \"column\": \"id\",\n      \"properties\": {\n        \"dtype\": \"number\",\n        \"std\": 15970,\n        \"min\": 1163,\n        \"max\": 60000,\n        \"num_unique_values\": 27265,\n        \"samples\": [\n          31601,\n          4040,\n          24242\n        ],\n        \"semantic_type\": \"\",\n        \"description\": \"\"\n      }\n    },\n    {\n      \"column\": \"gender\",\n      \"properties\": {\n        \"dtype\": \"category\",\n        \"num_unique_values\": 5,\n        \"samples\": [\n          \"Women\",\n          \"Unisex\",\n          \"Boys\"\n        ],\n        \"semantic_type\": \"\",\n        \"description\": \"\"\n      }\n    },\n    {\n      \"column\": \"masterCategory\",\n      \"properties\": {\n        \"dtype\": \"category\",\n        \"num_unique_values\": 2,\n        \"samples\": [\n          \"Footwear\",\n          \"Apparel\"\n        ],\n        \"semantic_type\": \"\",\n        \"description\": \"\"\n      }\n    },\n    {\n      \"column\": \"subCategory\",\n      \"properties\": {\n        \"dtype\": \"number\",\n        \"std\": 0,\n        \"min\": 0,\n        \"max\": 2,\n        \"num_unique_values\": 3,\n        \"samples\": [\n          2,\n          0\n        ],\n        \"semantic_type\": \"\",\n        \"description\": \"\"\n      }\n    },\n    {\n      \"column\": \"articleType\",\n      \"properties\": {\n        \"dtype\": \"category\",\n        \"num_unique_values\": 44,\n        \"samples\": [\n          \"Salwar\",\n          \"Sports Sandals\"\n        ],\n        \"semantic_type\": \"\",\n        \"description\": \"\"\n      }\n    },\n    {\n      \"column\": \"baseColour\",\n      \"properties\": {\n        \"dtype\": \"category\",\n        \"num_unique_values\": 43,\n        \"samples\": [\n          \"Mauve\",\n          \"Tan\"\n        ],\n        \"semantic_type\": \"\",\n        \"description\": \"\"\n      }\n    },\n    {\n      \"column\": \"season\",\n      \"properties\": {\n        \"dtype\": \"category\",\n        \"num_unique_values\": 4,\n        \"samples\": [\n          \"Summer\",\n          \"Spring\"\n        ],\n        \"semantic_type\": \"\",\n        \"description\": \"\"\n      }\n    },\n    {\n      \"column\": \"usage\",\n      \"properties\": {\n        \"dtype\": \"category\",\n        \"num_unique_values\": 7,\n        \"samples\": [\n          \"Casual\",\n          \"Ethnic\"\n        ],\n        \"semantic_type\": \"\",\n        \"description\": \"\"\n      }\n    },\n    {\n      \"column\": \"colorgroup\",\n      \"properties\": {\n        \"dtype\": \"number\",\n        \"std\": 4,\n        \"min\": 0,\n        \"max\": 15,\n        \"num_unique_values\": 16,\n        \"samples\": [\n          9,\n          8\n        ],\n        \"semantic_type\": \"\",\n        \"description\": \"\"\n      }\n    }\n  ]\n}"
            }
          },
          "metadata": {},
          "execution_count": 5
        }
      ],
      "source": [
        "le = LabelEncoder()\n",
        "styles[\"subCategory\"] = le.fit_transform(styles[\"subCategory\"])\n",
        "styles.head()"
      ]
    },
    {
      "cell_type": "code",
      "execution_count": null,
      "metadata": {
        "colab": {
          "base_uri": "https://localhost:8080/"
        },
        "id": "rjszc8_DXA3l",
        "outputId": "0609080d-62f2-45d2-cc4a-460eda675286"
      },
      "outputs": [
        {
          "output_type": "execute_result",
          "data": {
            "text/plain": [
              "array(['Bottomwear', 'Footwear', 'Topwear'], dtype=object)"
            ]
          },
          "metadata": {},
          "execution_count": 6
        }
      ],
      "source": [
        "le.classes_"
      ]
    },
    {
      "cell_type": "code",
      "execution_count": null,
      "metadata": {
        "colab": {
          "base_uri": "https://localhost:8080/"
        },
        "id": "nNmIuIZ8Xd5j",
        "outputId": "0d0ee2c0-2ca1-428b-a572-7821eed9d59f"
      },
      "outputs": [
        {
          "output_type": "stream",
          "name": "stdout",
          "text": [
            "Downloading data from https://storage.googleapis.com/tensorflow/keras-applications/resnet/resnet50_weights_tf_dim_ordering_tf_kernels_notop.h5\n",
            "94765736/94765736 [==============================] - 1s 0us/step\n",
            "Model: \"model\"\n",
            "_________________________________________________________________\n",
            " Layer (type)                Output Shape              Param #   \n",
            "=================================================================\n",
            " images (InputLayer)         [(None, 80, 60, 3)]       0         \n",
            "                                                                 \n",
            " resnet50 (Functional)       (None, 3, 2, 2048)        23587712  \n",
            "                                                                 \n",
            " conv2d (Conv2D)             (None, 2, 1, 32)          262176    \n",
            "                                                                 \n",
            " flatten (Flatten)           (None, 64)                0         \n",
            "                                                                 \n",
            " dense (Dense)               (None, 1024)              66560     \n",
            "                                                                 \n",
            " dense_1 (Dense)             (None, 512)               524800    \n",
            "                                                                 \n",
            " dense_2 (Dense)             (None, 256)               131328    \n",
            "                                                                 \n",
            " dense_3 (Dense)             (None, 128)               32896     \n",
            "                                                                 \n",
            " dense_4 (Dense)             (None, 64)                8256      \n",
            "                                                                 \n",
            " dense_5 (Dense)             (None, 3)                 195       \n",
            "                                                                 \n",
            " subCategory (Activation)    (None, 3)                 0         \n",
            "                                                                 \n",
            "=================================================================\n",
            "Total params: 24613923 (93.89 MB)\n",
            "Trainable params: 1026211 (3.91 MB)\n",
            "Non-trainable params: 23587712 (89.98 MB)\n",
            "_________________________________________________________________\n"
          ]
        }
      ],
      "source": [
        "sub_train,sub_val,sub_test = make_input_xx(make_input_array_subcate(styles))\n",
        "\n",
        "sub_model = building_model(80, 60)\n",
        "\n",
        "sub_model.summary()"
      ]
    },
    {
      "cell_type": "code",
      "execution_count": null,
      "metadata": {
        "colab": {
          "base_uri": "https://localhost:8080/",
          "height": 1000
        },
        "id": "Mk9j_xYgXisG",
        "outputId": "1afaa96d-978a-46ce-8877-88fe92c85613"
      },
      "outputs": [
        {
          "output_type": "execute_result",
          "data": {
            "image/png": "[encoded data removed]",
            "text/plain": [
              "<IPython.core.display.Image object>"
            ]
          },
          "metadata": {},
          "execution_count": 8
        }
      ],
      "source": [
        "from tensorflow.keras.utils import plot_model\n",
        "plot_model(sub_model)"
      ]
    },
    {
      "cell_type": "code",
      "execution_count": null,
      "metadata": {
        "colab": {
          "base_uri": "https://localhost:8080/"
        },
        "id": "DJFP-frLgAms",
        "outputId": "ee24ff53-b8eb-4808-f43e-8452f12881df"
      },
      "outputs": [
        {
          "output_type": "stream",
          "name": "stdout",
          "text": [
            "Epoch 1/3\n"
          ]
        },
        {
          "output_type": "stream",
          "name": "stderr",
          "text": [
            "/usr/local/lib/python3.10/dist-packages/keras/src/backend.py:5727: UserWarning: \"`sparse_categorical_crossentropy` received `from_logits=True`, but the `output` argument was produced by a Softmax activation and thus does not represent logits. Was this intended?\n",
            "  output, from_logits = _get_logits(\n"
          ]
        },
        {
          "output_type": "stream",
          "name": "stdout",
          "text": [
            "1000/1000 [==============================] - 374s 369ms/step - loss: 0.1937 - accuracy: 0.9585 - val_loss: 0.1066 - val_accuracy: 0.9890\n",
            "Epoch 2/3\n",
            "1000/1000 [==============================] - 321s 322ms/step - loss: 0.1616 - accuracy: 0.9740 - val_loss: 0.1241 - val_accuracy: 0.9760\n",
            "Epoch 3/3\n",
            "1000/1000 [==============================] - 362s 362ms/step - loss: 0.0837 - accuracy: 0.9840 - val_loss: 0.2282 - val_accuracy: 0.9655\n"
          ]
        }
      ],
      "source": [
        "sub_model.compile(optimizer='adam',\n",
        "              loss=tf.keras.losses.SparseCategoricalCrossentropy(from_logits=True),\n",
        "              metrics=['accuracy'])\n",
        "\n",
        "sub_history = sub_model.fit(sub_train,\n",
        "                    epochs=3,\n",
        "                    steps_per_epoch = 1000,\n",
        "                    validation_data = sub_val)"
      ]
    },
    {
      "cell_type": "code",
      "execution_count": null,
      "metadata": {
        "id": "6tEQ628agG75",
        "colab": {
          "base_uri": "https://localhost:8080/"
        },
        "outputId": "9af590c7-0050-44b7-b131-aad80897084f"
      },
      "outputs": [
        {
          "output_type": "stream",
          "name": "stderr",
          "text": [
            "/usr/local/lib/python3.10/dist-packages/keras/src/engine/training.py:3103: UserWarning: You are saving your model as an HDF5 file via `model.save()`. This file format is considered legacy. We recommend using instead the native Keras format, e.g. `model.save('my_model.keras')`.\n",
            "  saving_api.save_model(\n"
          ]
        }
      ],
      "source": [
        "sub_model.save(\"/content/drive/MyDrive/models/bottom_model\")"
      ]
    },
    {
      "cell_type": "code",
      "source": [
        "test_model = tf.keras.models.load_model(\"/content/drive/MyDrive/models/bottom_model\")\n",
        "test_model.evaluate(sub_test)"
      ],
      "metadata": {
        "colab": {
          "base_uri": "https://localhost:8080/"
        },
        "id": "IGGUjRMNqA9M",
        "outputId": "a4cb0373-8a4c-439b-b4f9-507d0a330cb8"
      },
      "execution_count": null,
      "outputs": [
        {
          "output_type": "stream",
          "name": "stdout",
          "text": [
            "2727/2727 [==============================] - 251s 90ms/step - loss: 0.2700 - accuracy: 0.9637\n"
          ]
        },
        {
          "output_type": "execute_result",
          "data": {
            "text/plain": [
              "[0.2699986696243286, 0.9636896848678589]"
            ]
          },
          "metadata": {},
          "execution_count": 12
        }
      ]
    },
    {
      "cell_type": "code",
      "source": [
        "top_df = get_234_df(\"Topwear\")\n",
        "bottom_df = get_234_df(\"Bottomwear\")\n",
        "foot_df = get_234_df(\"Footwear\")"
      ],
      "metadata": {
        "id": "F1K16TrAqeLq"
      },
      "execution_count": null,
      "outputs": []
    },
    {
      "cell_type": "code",
      "source": [
        "top_df,top_art,top_gen,top_base,top_sea,top_usage = my_le(top_df)\n",
        "bottom_df,bottom_art,bottom_gen,bottom_base,bottom_sea,bottom_usage = my_le(bottom_df)\n",
        "foot_df,foot_art,foot_gen,foot_base,foot_sea,foot_usage = my_le(foot_df)"
      ],
      "metadata": {
        "id": "6-HRka4Qrz3U"
      },
      "execution_count": null,
      "outputs": []
    },
    {
      "cell_type": "code",
      "source": [
        "foot_usage.classes_"
      ],
      "metadata": {
        "colab": {
          "base_uri": "https://localhost:8080/"
        },
        "id": "XR30bIcKrttr",
        "outputId": "365080b1-d814-4bba-927a-4a5d543e2c83"
      },
      "execution_count": null,
      "outputs": [
        {
          "output_type": "execute_result",
          "data": {
            "text/plain": [
              "array(['Casual', 'Ethnic', 'Formal', 'Party', 'Smart Casual', 'Sports'],\n",
              "      dtype=object)"
            ]
          },
          "metadata": {},
          "execution_count": 15
        }
      ]
    },
    {
      "cell_type": "code",
      "source": [
        "top_base_model = build_model(80,60,top_art,top_gen,top_base,top_sea,top_usage)\n",
        "bottom_base_model = build_model(80,60,bottom_art,bottom_gen,bottom_base,bottom_sea,bottom_usage)\n",
        "foot_base_model = build_model(80,60,foot_art,foot_gen,foot_base,foot_sea,foot_usage)"
      ],
      "metadata": {
        "id": "tMpLXOnNr9AP"
      },
      "execution_count": null,
      "outputs": []
    },
    {
      "cell_type": "code",
      "source": [
        "top_train, top_val, top_test = make_input_xx(make_input_array_2(top_df))\n",
        "bottom_train, bottom_val, bottom_test = make_input_xx(make_input_array_2(bottom_df))\n",
        "foot_train, foot_val, foot_test = make_input_xx(make_input_array_2(foot_df))"
      ],
      "metadata": {
        "id": "RuyKXYVXsstP"
      },
      "execution_count": null,
      "outputs": []
    },
    {
      "cell_type": "code",
      "source": [
        "top_base_model.compile(optimizer='adam',\n",
        "              loss=tf.keras.losses.SparseCategoricalCrossentropy(from_logits=True),\n",
        "              metrics=['accuracy'])\n",
        "bottom_base_model.compile(optimizer='adam',\n",
        "              loss=tf.keras.losses.SparseCategoricalCrossentropy(from_logits=True),\n",
        "              metrics=['accuracy'])\n",
        "foot_base_model.compile(optimizer='adam',\n",
        "              loss=tf.keras.losses.SparseCategoricalCrossentropy(from_logits=True),\n",
        "              metrics=['accuracy'])"
      ],
      "metadata": {
        "id": "Di4UDdF0tLO5"
      },
      "execution_count": null,
      "outputs": []
    },
    {
      "cell_type": "code",
      "source": [
        "top_history = top_base_model.fit(top_train,\n",
        "                    epochs=6,\n",
        "                    steps_per_epoch = 300,\n",
        "                    validation_data = top_val)"
      ],
      "metadata": {
        "colab": {
          "base_uri": "https://localhost:8080/"
        },
        "id": "kv35p1gutnWX",
        "outputId": "65ba8a2c-82fc-4fe0-814d-3a3b6f23ea31"
      },
      "execution_count": null,
      "outputs": [
        {
          "output_type": "stream",
          "name": "stdout",
          "text": [
            "Epoch 1/6\n"
          ]
        },
        {
          "output_type": "stream",
          "name": "stderr",
          "text": [
            "/usr/local/lib/python3.10/dist-packages/keras/src/backend.py:5727: UserWarning: \"`sparse_categorical_crossentropy` received `from_logits=True`, but the `output` argument was produced by a Softmax activation and thus does not represent logits. Was this intended?\n",
            "  output, from_logits = _get_logits(\n"
          ]
        },
        {
          "output_type": "stream",
          "name": "stdout",
          "text": [
            "300/300 [==============================] - 269s 861ms/step - loss: 6.9949 - articleType_loss: 1.7747 - gender_loss: 0.6911 - baseColour_loss: 2.5281 - season_loss: 1.0121 - usage_loss: 0.9889 - articleType_accuracy: 0.5167 - gender_accuracy: 0.7583 - baseColour_accuracy: 0.2383 - season_accuracy: 0.5100 - usage_accuracy: 0.7133 - val_loss: 5.6242 - val_articleType_loss: 1.2993 - val_gender_loss: 0.4598 - val_baseColour_loss: 2.2883 - val_season_loss: 0.8418 - val_usage_loss: 0.7350 - val_articleType_accuracy: 0.5660 - val_gender_accuracy: 0.8492 - val_baseColour_accuracy: 0.2559 - val_season_accuracy: 0.5988 - val_usage_accuracy: 0.7572\n",
            "Epoch 2/6\n",
            "300/300 [==============================] - 231s 772ms/step - loss: 5.8490 - articleType_loss: 1.3913 - gender_loss: 0.5191 - baseColour_loss: 2.2533 - season_loss: 0.9104 - usage_loss: 0.7748 - articleType_accuracy: 0.6000 - gender_accuracy: 0.8100 - baseColour_accuracy: 0.2600 - season_accuracy: 0.5317 - usage_accuracy: 0.7767 - val_loss: 4.9467 - val_articleType_loss: 1.0960 - val_gender_loss: 0.3984 - val_baseColour_loss: 2.0857 - val_season_loss: 0.7925 - val_usage_loss: 0.5741 - val_articleType_accuracy: 0.6882 - val_gender_accuracy: 0.8563 - val_baseColour_accuracy: 0.3049 - val_season_accuracy: 0.5770 - val_usage_accuracy: 0.8075\n",
            "Epoch 3/6\n",
            "300/300 [==============================] - 242s 807ms/step - loss: 5.2141 - articleType_loss: 1.1698 - gender_loss: 0.4188 - baseColour_loss: 2.1440 - season_loss: 0.8394 - usage_loss: 0.6421 - articleType_accuracy: 0.6300 - gender_accuracy: 0.8650 - baseColour_accuracy: 0.2983 - season_accuracy: 0.6000 - usage_accuracy: 0.7967 - val_loss: 4.6576 - val_articleType_loss: 1.0379 - val_gender_loss: 0.3199 - val_baseColour_loss: 2.0402 - val_season_loss: 0.7586 - val_usage_loss: 0.5009 - val_articleType_accuracy: 0.7129 - val_gender_accuracy: 0.9025 - val_baseColour_accuracy: 0.3534 - val_season_accuracy: 0.6492 - val_usage_accuracy: 0.8332\n",
            "Epoch 4/6\n",
            "300/300 [==============================] - 264s 882ms/step - loss: 4.8142 - articleType_loss: 1.0868 - gender_loss: 0.3251 - baseColour_loss: 2.0032 - season_loss: 0.8137 - usage_loss: 0.5854 - articleType_accuracy: 0.6783 - gender_accuracy: 0.8800 - baseColour_accuracy: 0.3550 - season_accuracy: 0.6133 - usage_accuracy: 0.7983 - val_loss: 4.6383 - val_articleType_loss: 1.0262 - val_gender_loss: 0.2922 - val_baseColour_loss: 1.9025 - val_season_loss: 0.7879 - val_usage_loss: 0.6295 - val_articleType_accuracy: 0.6804 - val_gender_accuracy: 0.8813 - val_baseColour_accuracy: 0.4103 - val_season_accuracy: 0.6365 - val_usage_accuracy: 0.7975\n",
            "Epoch 5/6\n",
            "300/300 [==============================] - 256s 854ms/step - loss: 4.9290 - articleType_loss: 1.1355 - gender_loss: 0.3471 - baseColour_loss: 2.0845 - season_loss: 0.7738 - usage_loss: 0.5880 - articleType_accuracy: 0.6883 - gender_accuracy: 0.8733 - baseColour_accuracy: 0.3583 - season_accuracy: 0.6183 - usage_accuracy: 0.8167 - val_loss: 4.7653 - val_articleType_loss: 1.1669 - val_gender_loss: 0.3238 - val_baseColour_loss: 2.0128 - val_season_loss: 0.7497 - val_usage_loss: 0.5120 - val_articleType_accuracy: 0.6977 - val_gender_accuracy: 0.8742 - val_baseColour_accuracy: 0.3173 - val_season_accuracy: 0.6265 - val_usage_accuracy: 0.8469\n",
            "Epoch 6/6\n",
            "300/300 [==============================] - 257s 857ms/step - loss: 4.4974 - articleType_loss: 0.9807 - gender_loss: 0.3236 - baseColour_loss: 1.9002 - season_loss: 0.7286 - usage_loss: 0.5644 - articleType_accuracy: 0.7083 - gender_accuracy: 0.9050 - baseColour_accuracy: 0.4017 - season_accuracy: 0.6550 - usage_accuracy: 0.8183 - val_loss: 4.5873 - val_articleType_loss: 0.8823 - val_gender_loss: 0.3190 - val_baseColour_loss: 2.1048 - val_season_loss: 0.7645 - val_usage_loss: 0.5168 - val_articleType_accuracy: 0.7253 - val_gender_accuracy: 0.8940 - val_baseColour_accuracy: 0.4171 - val_season_accuracy: 0.6278 - val_usage_accuracy: 0.8144\n"
          ]
        }
      ]
    },
    {
      "cell_type": "code",
      "source": [
        "top_base_model.evaluate(top_test)"
      ],
      "metadata": {
        "colab": {
          "base_uri": "https://localhost:8080/"
        },
        "id": "B4IKmAU1bSkO",
        "outputId": "b48799da-a0fd-4e3d-e8d0-dd0e276555f3"
      },
      "execution_count": null,
      "outputs": [
        {
          "output_type": "stream",
          "name": "stdout",
          "text": [
            "1539/1539 [==============================] - 141s 90ms/step - loss: 4.6741 - articleType_loss: 0.8925 - gender_loss: 0.3157 - baseColour_loss: 2.1539 - season_loss: 0.7664 - usage_loss: 0.5455 - articleType_accuracy: 0.7190 - gender_accuracy: 0.8902 - baseColour_accuracy: 0.3970 - season_accuracy: 0.6417 - usage_accuracy: 0.8041\n"
          ]
        },
        {
          "output_type": "execute_result",
          "data": {
            "text/plain": [
              "[4.674066066741943,\n",
              " 0.8924999833106995,\n",
              " 0.3157328963279724,\n",
              " 2.153855085372925,\n",
              " 0.7664276957511902,\n",
              " 0.5455489754676819,\n",
              " 0.7189733386039734,\n",
              " 0.890188455581665,\n",
              " 0.39701104164123535,\n",
              " 0.6416504383087158,\n",
              " 0.8040935397148132]"
            ]
          },
          "metadata": {},
          "execution_count": 20
        }
      ]
    },
    {
      "cell_type": "code",
      "source": [
        "top_base_model.save(\"/content/drive/MyDrive/models/top_model\")"
      ],
      "metadata": {
        "id": "zijOX9EzbTan"
      },
      "execution_count": null,
      "outputs": []
    },
    {
      "cell_type": "code",
      "source": [
        "bottom_history = bottom_base_model.fit(bottom_train,\n",
        "                    epochs=15,\n",
        "                    steps_per_epoch = 50,\n",
        "                    validation_data = bottom_val)"
      ],
      "metadata": {
        "colab": {
          "base_uri": "https://localhost:8080/"
        },
        "id": "2qGy4ZA4cGMJ",
        "outputId": "15041c0a-f7f9-428f-9fe0-2dcfd5657a9f"
      },
      "execution_count": null,
      "outputs": [
        {
          "output_type": "stream",
          "name": "stdout",
          "text": [
            "Epoch 1/15\n",
            "50/50 [==============================] - 59s 1s/step - loss: 5.1039 - articleType_loss: 1.2216 - gender_loss: 0.4127 - baseColour_loss: 1.9068 - season_loss: 0.9033 - usage_loss: 0.6594 - articleType_accuracy: 0.6200 - gender_accuracy: 0.8200 - baseColour_accuracy: 0.4200 - season_accuracy: 0.5300 - usage_accuracy: 0.7800 - val_loss: 5.4996 - val_articleType_loss: 1.3432 - val_gender_loss: 0.7117 - val_baseColour_loss: 1.8474 - val_season_loss: 0.8610 - val_usage_loss: 0.7363 - val_articleType_accuracy: 0.5754 - val_gender_accuracy: 0.7169 - val_baseColour_accuracy: 0.3948 - val_season_accuracy: 0.5773 - val_usage_accuracy: 0.6909\n",
            "Epoch 2/15\n",
            "50/50 [==============================] - 61s 1s/step - loss: 5.6741 - articleType_loss: 1.4896 - gender_loss: 0.5553 - baseColour_loss: 2.0282 - season_loss: 0.9043 - usage_loss: 0.6967 - articleType_accuracy: 0.5200 - gender_accuracy: 0.8200 - baseColour_accuracy: 0.4200 - season_accuracy: 0.6100 - usage_accuracy: 0.6900 - val_loss: 5.1568 - val_articleType_loss: 1.2930 - val_gender_loss: 0.5488 - val_baseColour_loss: 1.8039 - val_season_loss: 0.8675 - val_usage_loss: 0.6436 - val_articleType_accuracy: 0.5959 - val_gender_accuracy: 0.7933 - val_baseColour_accuracy: 0.3762 - val_season_accuracy: 0.5829 - val_usage_accuracy: 0.7095\n",
            "Epoch 3/15\n",
            "50/50 [==============================] - 61s 1s/step - loss: 5.0706 - articleType_loss: 1.3949 - gender_loss: 0.6268 - baseColour_loss: 1.7138 - season_loss: 0.8108 - usage_loss: 0.5242 - articleType_accuracy: 0.5600 - gender_accuracy: 0.8000 - baseColour_accuracy: 0.4000 - season_accuracy: 0.5600 - usage_accuracy: 0.7900 - val_loss: 5.5956 - val_articleType_loss: 1.4464 - val_gender_loss: 0.6048 - val_baseColour_loss: 1.8705 - val_season_loss: 0.9655 - val_usage_loss: 0.7083 - val_articleType_accuracy: 0.5345 - val_gender_accuracy: 0.7337 - val_baseColour_accuracy: 0.4246 - val_season_accuracy: 0.4786 - val_usage_accuracy: 0.7579\n",
            "Epoch 4/15\n",
            "50/50 [==============================] - 64s 1s/step - loss: 5.3539 - articleType_loss: 1.4812 - gender_loss: 0.5661 - baseColour_loss: 1.7956 - season_loss: 0.8120 - usage_loss: 0.6989 - articleType_accuracy: 0.6000 - gender_accuracy: 0.7800 - baseColour_accuracy: 0.3200 - season_accuracy: 0.6400 - usage_accuracy: 0.7100 - val_loss: 5.4167 - val_articleType_loss: 1.3175 - val_gender_loss: 0.6476 - val_baseColour_loss: 1.7428 - val_season_loss: 0.8916 - val_usage_loss: 0.8172 - val_articleType_accuracy: 0.5940 - val_gender_accuracy: 0.7412 - val_baseColour_accuracy: 0.4544 - val_season_accuracy: 0.5866 - val_usage_accuracy: 0.6946\n",
            "Epoch 5/15\n",
            "50/50 [==============================] - 59s 1s/step - loss: 5.4021 - articleType_loss: 1.5039 - gender_loss: 0.7131 - baseColour_loss: 1.5869 - season_loss: 0.8020 - usage_loss: 0.7962 - articleType_accuracy: 0.5400 - gender_accuracy: 0.7100 - baseColour_accuracy: 0.4400 - season_accuracy: 0.6400 - usage_accuracy: 0.7000 - val_loss: 4.9750 - val_articleType_loss: 1.1944 - val_gender_loss: 0.5730 - val_baseColour_loss: 1.6252 - val_season_loss: 0.8960 - val_usage_loss: 0.6863 - val_articleType_accuracy: 0.6257 - val_gender_accuracy: 0.7263 - val_baseColour_accuracy: 0.4655 - val_season_accuracy: 0.5959 - val_usage_accuracy: 0.7244\n",
            "Epoch 6/15\n",
            "50/50 [==============================] - 42s 849ms/step - loss: 5.7937 - articleType_loss: 1.4339 - gender_loss: 0.7043 - baseColour_loss: 1.8867 - season_loss: 0.9357 - usage_loss: 0.8330 - articleType_accuracy: 0.5600 - gender_accuracy: 0.7200 - baseColour_accuracy: 0.3800 - season_accuracy: 0.4700 - usage_accuracy: 0.6800 - val_loss: 5.2528 - val_articleType_loss: 1.3191 - val_gender_loss: 0.6862 - val_baseColour_loss: 1.7302 - val_season_loss: 0.9393 - val_usage_loss: 0.5779 - val_articleType_accuracy: 0.5829 - val_gender_accuracy: 0.7169 - val_baseColour_accuracy: 0.4339 - val_season_accuracy: 0.5196 - val_usage_accuracy: 0.7728\n",
            "Epoch 7/15\n",
            "50/50 [==============================] - 40s 810ms/step - loss: 5.1909 - articleType_loss: 1.3948 - gender_loss: 0.6892 - baseColour_loss: 1.6055 - season_loss: 0.8732 - usage_loss: 0.6283 - articleType_accuracy: 0.5700 - gender_accuracy: 0.7400 - baseColour_accuracy: 0.4800 - season_accuracy: 0.6100 - usage_accuracy: 0.7200 - val_loss: 5.2141 - val_articleType_loss: 1.2739 - val_gender_loss: 0.5084 - val_baseColour_loss: 1.9486 - val_season_loss: 0.8662 - val_usage_loss: 0.6170 - val_articleType_accuracy: 0.5717 - val_gender_accuracy: 0.7989 - val_baseColour_accuracy: 0.3892 - val_season_accuracy: 0.5885 - val_usage_accuracy: 0.7579\n",
            "Epoch 8/15\n",
            "50/50 [==============================] - 59s 1s/step - loss: 5.3362 - articleType_loss: 1.3731 - gender_loss: 0.6604 - baseColour_loss: 1.6279 - season_loss: 0.9589 - usage_loss: 0.7159 - articleType_accuracy: 0.5900 - gender_accuracy: 0.7600 - baseColour_accuracy: 0.4800 - season_accuracy: 0.6100 - usage_accuracy: 0.7600 - val_loss: 4.9094 - val_articleType_loss: 1.1040 - val_gender_loss: 0.6595 - val_baseColour_loss: 1.6357 - val_season_loss: 0.8522 - val_usage_loss: 0.6580 - val_articleType_accuracy: 0.6518 - val_gender_accuracy: 0.7337 - val_baseColour_accuracy: 0.3538 - val_season_accuracy: 0.5698 - val_usage_accuracy: 0.7114\n",
            "Epoch 9/15\n",
            "50/50 [==============================] - 60s 1s/step - loss: 4.9770 - articleType_loss: 1.2933 - gender_loss: 0.6057 - baseColour_loss: 1.5056 - season_loss: 0.8057 - usage_loss: 0.7667 - articleType_accuracy: 0.5800 - gender_accuracy: 0.7400 - baseColour_accuracy: 0.4800 - season_accuracy: 0.6000 - usage_accuracy: 0.7000 - val_loss: 4.8799 - val_articleType_loss: 1.2051 - val_gender_loss: 0.4831 - val_baseColour_loss: 1.7539 - val_season_loss: 0.8178 - val_usage_loss: 0.6199 - val_articleType_accuracy: 0.5978 - val_gender_accuracy: 0.8399 - val_baseColour_accuracy: 0.4544 - val_season_accuracy: 0.5587 - val_usage_accuracy: 0.7449\n",
            "Epoch 10/15\n",
            "50/50 [==============================] - 38s 777ms/step - loss: 6.0704 - articleType_loss: 1.5474 - gender_loss: 0.6667 - baseColour_loss: 2.0322 - season_loss: 1.0006 - usage_loss: 0.8234 - articleType_accuracy: 0.5100 - gender_accuracy: 0.7800 - baseColour_accuracy: 0.4900 - season_accuracy: 0.5500 - usage_accuracy: 0.7300 - val_loss: 4.9431 - val_articleType_loss: 1.1748 - val_gender_loss: 0.4734 - val_baseColour_loss: 1.7709 - val_season_loss: 0.9009 - val_usage_loss: 0.6230 - val_articleType_accuracy: 0.5940 - val_gender_accuracy: 0.8119 - val_baseColour_accuracy: 0.4171 - val_season_accuracy: 0.5978 - val_usage_accuracy: 0.7449\n",
            "Epoch 11/15\n",
            "50/50 [==============================] - 59s 1s/step - loss: 5.5971 - articleType_loss: 1.3292 - gender_loss: 0.6476 - baseColour_loss: 1.9478 - season_loss: 0.9219 - usage_loss: 0.7506 - articleType_accuracy: 0.6000 - gender_accuracy: 0.7600 - baseColour_accuracy: 0.3400 - season_accuracy: 0.5200 - usage_accuracy: 0.7200 - val_loss: 4.8389 - val_articleType_loss: 1.2481 - val_gender_loss: 0.4474 - val_baseColour_loss: 1.6837 - val_season_loss: 0.8672 - val_usage_loss: 0.5925 - val_articleType_accuracy: 0.6127 - val_gender_accuracy: 0.8343 - val_baseColour_accuracy: 0.4376 - val_season_accuracy: 0.5810 - val_usage_accuracy: 0.7803\n",
            "Epoch 12/15\n",
            "50/50 [==============================] - 42s 850ms/step - loss: 4.9998 - articleType_loss: 1.1714 - gender_loss: 0.5234 - baseColour_loss: 1.9600 - season_loss: 0.8156 - usage_loss: 0.5293 - articleType_accuracy: 0.6200 - gender_accuracy: 0.8200 - baseColour_accuracy: 0.2900 - season_accuracy: 0.5400 - usage_accuracy: 0.7800 - val_loss: 4.8665 - val_articleType_loss: 1.1321 - val_gender_loss: 0.5002 - val_baseColour_loss: 1.6905 - val_season_loss: 0.9176 - val_usage_loss: 0.6262 - val_articleType_accuracy: 0.6369 - val_gender_accuracy: 0.7896 - val_baseColour_accuracy: 0.4209 - val_season_accuracy: 0.6331 - val_usage_accuracy: 0.7691\n",
            "Epoch 13/15\n",
            "50/50 [==============================] - 60s 1s/step - loss: 5.2692 - articleType_loss: 1.2126 - gender_loss: 0.5150 - baseColour_loss: 1.7430 - season_loss: 0.9818 - usage_loss: 0.8168 - articleType_accuracy: 0.5900 - gender_accuracy: 0.7700 - baseColour_accuracy: 0.4200 - season_accuracy: 0.5600 - usage_accuracy: 0.6700 - val_loss: 4.9775 - val_articleType_loss: 1.2316 - val_gender_loss: 0.5075 - val_baseColour_loss: 1.6545 - val_season_loss: 0.9494 - val_usage_loss: 0.6345 - val_articleType_accuracy: 0.6015 - val_gender_accuracy: 0.7970 - val_baseColour_accuracy: 0.4320 - val_season_accuracy: 0.6127 - val_usage_accuracy: 0.7635\n",
            "Epoch 14/15\n",
            "50/50 [==============================] - 58s 1s/step - loss: 5.5033 - articleType_loss: 1.3160 - gender_loss: 0.7433 - baseColour_loss: 1.8567 - season_loss: 0.9870 - usage_loss: 0.6003 - articleType_accuracy: 0.6400 - gender_accuracy: 0.7600 - baseColour_accuracy: 0.3900 - season_accuracy: 0.5500 - usage_accuracy: 0.7000 - val_loss: 4.7016 - val_articleType_loss: 1.1296 - val_gender_loss: 0.4517 - val_baseColour_loss: 1.7121 - val_season_loss: 0.8596 - val_usage_loss: 0.5486 - val_articleType_accuracy: 0.6536 - val_gender_accuracy: 0.8268 - val_baseColour_accuracy: 0.4246 - val_season_accuracy: 0.6201 - val_usage_accuracy: 0.7858\n",
            "Epoch 15/15\n",
            "50/50 [==============================] - 64s 1s/step - loss: 5.0022 - articleType_loss: 1.1802 - gender_loss: 0.5452 - baseColour_loss: 1.6529 - season_loss: 0.9767 - usage_loss: 0.6471 - articleType_accuracy: 0.6300 - gender_accuracy: 0.8000 - baseColour_accuracy: 0.4300 - season_accuracy: 0.5200 - usage_accuracy: 0.6800 - val_loss: 4.8195 - val_articleType_loss: 1.1151 - val_gender_loss: 0.5125 - val_baseColour_loss: 1.6641 - val_season_loss: 0.8534 - val_usage_loss: 0.6745 - val_articleType_accuracy: 0.6089 - val_gender_accuracy: 0.7803 - val_baseColour_accuracy: 0.4283 - val_season_accuracy: 0.6052 - val_usage_accuracy: 0.7523\n"
          ]
        }
      ]
    },
    {
      "cell_type": "code",
      "source": [
        "bottom_base_model.evaluate(bottom_test)"
      ],
      "metadata": {
        "colab": {
          "base_uri": "https://localhost:8080/"
        },
        "id": "CUxpTc9IfWsZ",
        "outputId": "c8c47b01-06e9-4476-bed8-76c119a56fab"
      },
      "execution_count": null,
      "outputs": [
        {
          "output_type": "stream",
          "name": "stdout",
          "text": [
            "269/269 [==============================] - 24s 87ms/step - loss: 4.9572 - articleType_loss: 1.2054 - gender_loss: 0.4725 - baseColour_loss: 1.6883 - season_loss: 0.8882 - usage_loss: 0.7028 - articleType_accuracy: 0.5996 - gender_accuracy: 0.8212 - baseColour_accuracy: 0.4413 - season_accuracy: 0.5959 - usage_accuracy: 0.7300\n"
          ]
        },
        {
          "output_type": "execute_result",
          "data": {
            "text/plain": [
              "[4.9572296142578125,\n",
              " 1.205366611480713,\n",
              " 0.4724755883216858,\n",
              " 1.6883325576782227,\n",
              " 0.8882486820220947,\n",
              " 0.7028047442436218,\n",
              " 0.5996275544166565,\n",
              " 0.8212290406227112,\n",
              " 0.44134077429771423,\n",
              " 0.5959031581878662,\n",
              " 0.7299813628196716]"
            ]
          },
          "metadata": {},
          "execution_count": 46
        }
      ]
    },
    {
      "cell_type": "code",
      "source": [
        "bottom_base_model.save(\"/content/drive/MyDrive/models/bottom_model\")"
      ],
      "metadata": {
        "id": "V9J9LIPCkttN"
      },
      "execution_count": null,
      "outputs": []
    },
    {
      "cell_type": "code",
      "source": [
        "foot_history = foot_base_model.fit(foot_train,\n",
        "                    epochs=3,\n",
        "                    steps_per_epoch = 1200,\n",
        "                    validation_data = foot_val)"
      ],
      "metadata": {
        "colab": {
          "base_uri": "https://localhost:8080/"
        },
        "id": "2vukO7Y7lGOd",
        "outputId": "dbab5ce5-b553-439d-bb6b-d38b0b12a9cf"
      },
      "execution_count": null,
      "outputs": [
        {
          "output_type": "stream",
          "name": "stdout",
          "text": [
            "Epoch 1/3\n"
          ]
        },
        {
          "output_type": "stream",
          "name": "stderr",
          "text": [
            "/usr/local/lib/python3.10/dist-packages/keras/src/backend.py:5727: UserWarning: \"`sparse_categorical_crossentropy` received `from_logits=True`, but the `output` argument was produced by a Softmax activation and thus does not represent logits. Was this intended?\n",
            "  output, from_logits = _get_logits(\n"
          ]
        },
        {
          "output_type": "stream",
          "name": "stdout",
          "text": [
            "1200/1200 [==============================] - 576s 467ms/step - loss: 5.8889 - articleType_loss: 1.4221 - gender_loss: 0.7323 - baseColour_loss: 1.8428 - season_loss: 1.1568 - usage_loss: 0.7350 - articleType_accuracy: 0.4779 - gender_accuracy: 0.7733 - baseColour_accuracy: 0.4308 - season_accuracy: 0.4879 - usage_accuracy: 0.7271 - val_loss: 4.8491 - val_articleType_loss: 1.0525 - val_gender_loss: 0.6224 - val_baseColour_loss: 1.5796 - val_season_loss: 1.0550 - val_usage_loss: 0.5396 - val_articleType_accuracy: 0.6009 - val_gender_accuracy: 0.8070 - val_baseColour_accuracy: 0.4867 - val_season_accuracy: 0.5334 - val_usage_accuracy: 0.8075\n",
            "Epoch 2/3\n",
            "1200/1200 [==============================] - 550s 458ms/step - loss: 4.8937 - articleType_loss: 1.0441 - gender_loss: 0.6184 - baseColour_loss: 1.5895 - season_loss: 1.1141 - usage_loss: 0.5276 - articleType_accuracy: 0.6108 - gender_accuracy: 0.7950 - baseColour_accuracy: 0.4733 - season_accuracy: 0.5096 - usage_accuracy: 0.7983 - val_loss: 4.3673 - val_articleType_loss: 0.8653 - val_gender_loss: 0.5333 - val_baseColour_loss: 1.5096 - val_season_loss: 1.0427 - val_usage_loss: 0.4164 - val_articleType_accuracy: 0.6895 - val_gender_accuracy: 0.8042 - val_baseColour_accuracy: 0.5024 - val_season_accuracy: 0.5432 - val_usage_accuracy: 0.8537\n",
            "Epoch 3/3\n",
            " 359/1200 [=======>......................] - ETA: 5:37 - loss: 4.5978 - articleType_loss: 0.9137 - gender_loss: 0.5663 - baseColour_loss: 1.5334 - season_loss: 1.0482 - usage_loss: 0.5362 - articleType_accuracy: 0.6560 - gender_accuracy: 0.8189 - baseColour_accuracy: 0.5195 - season_accuracy: 0.5543 - usage_accuracy: 0.8203"
          ]
        },
        {
          "output_type": "stream",
          "name": "stderr",
          "text": [
            "WARNING:tensorflow:Your input ran out of data; interrupting training. Make sure that your dataset or generator can generate at least `steps_per_epoch * epochs` batches (in this case, 3600 batches). You may need to use the repeat() function when building your dataset.\n"
          ]
        },
        {
          "output_type": "stream",
          "name": "stdout",
          "text": [
            "\b\b\b\b\b\b\b\b\b\b\b\b\b\b\b\b\b\b\b\b\b\b\b\b\b\b\b\b\b\b\b\b\b\b\b\b\b\b\b\b\b\b\b\b\b\b\b\b\b\b\b\b\b\b\b\b\b\b\b\b\b\b\b\b\b\b\b\b\b\b\b\b\b\b\b\b\b\b\b\b\b\b\b\b\b\b\b\b\b\b\b\b\b\b\b\b\b\b\b\b\b\b\b\b\b\b\b\b\b\b\b\b\b\b\b\b\b\b\b\b\b\b\b\b\b\b\b\b\b\b\b\b\b\b\b\b\b\b\b\b\b\b\b\b\b\b\b\b\b\b\b\b\b\b\b\b\b\b\b\b\b\b\b\b\b\b\b\b\b\b\b\b\b\b\b\b\b\b\b\b\b\b\b\b\b\b\b\b\b\b\b\b\b\b\b\b\b\b\b\b\b\b\b\b\b\b\b\b\b\b\b\b\b\b\b\b\b\b\b\b\b\b\b\b\b\b\b\b\b\b\b\b\b\b\b\b\b\b\b\b\b\b\b\b\b\b\b\b\b\b\b\b\b\b\b\b\b\b\b\b\b\b\b\b\b\b\b\b\b\b\b\b\b\b\b\b\b\b\b\b\b\b\b\b\b\b\b\b\b\b\b\b\b\b\b\b\b\b\b\b\b\b\b\b\b\b\b\b\b\b\b\b\b\b\b\b\b\b\b\b\b\b\b\b\b\r1200/1200 [==============================] - 227s 189ms/step - loss: 4.5978 - articleType_loss: 0.9137 - gender_loss: 0.5663 - baseColour_loss: 1.5334 - season_loss: 1.0482 - usage_loss: 0.5362 - articleType_accuracy: 0.6560 - gender_accuracy: 0.8189 - baseColour_accuracy: 0.5195 - season_accuracy: 0.5543 - usage_accuracy: 0.8203 - val_loss: 4.6241 - val_articleType_loss: 0.9763 - val_gender_loss: 0.5951 - val_baseColour_loss: 1.5336 - val_season_loss: 1.0817 - val_usage_loss: 0.4375 - val_articleType_accuracy: 0.6482 - val_gender_accuracy: 0.7890 - val_baseColour_accuracy: 0.5133 - val_season_accuracy: 0.5264 - val_usage_accuracy: 0.8380\n"
          ]
        }
      ]
    },
    {
      "cell_type": "code",
      "source": [
        "foot_base_model.evaluate(foot_test)"
      ],
      "metadata": {
        "colab": {
          "base_uri": "https://localhost:8080/"
        },
        "id": "tD49I3iVlOT5",
        "outputId": "bb7df4e7-ec9b-4a5f-bb45-4d39c954f11c"
      },
      "execution_count": null,
      "outputs": [
        {
          "output_type": "stream",
          "name": "stdout",
          "text": [
            "920/920 [==============================] - 85s 90ms/step - loss: 4.5608 - articleType_loss: 0.9243 - gender_loss: 0.5855 - baseColour_loss: 1.5785 - season_loss: 1.0565 - usage_loss: 0.4159 - articleType_accuracy: 0.6875 - gender_accuracy: 0.7913 - baseColour_accuracy: 0.4853 - season_accuracy: 0.5332 - usage_accuracy: 0.8576\n"
          ]
        },
        {
          "output_type": "execute_result",
          "data": {
            "text/plain": [
              "[4.560804843902588,\n",
              " 0.924313485622406,\n",
              " 0.5855086445808411,\n",
              " 1.578498125076294,\n",
              " 1.056542992591858,\n",
              " 0.41593608260154724,\n",
              " 0.6875,\n",
              " 0.791304349899292,\n",
              " 0.4853260815143585,\n",
              " 0.533152163028717,\n",
              " 0.8576086759567261]"
            ]
          },
          "metadata": {},
          "execution_count": 49
        }
      ]
    },
    {
      "cell_type": "code",
      "source": [
        "foot_base_model.save(\"/content/drive/MyDrive/models/foot_model\")"
      ],
      "metadata": {
        "id": "UQ_QDoK7qvn8"
      },
      "execution_count": null,
      "outputs": []
    },
    {
      "cell_type": "code",
      "source": [],
      "metadata": {
        "id": "K8ZLX2slrg08"
      },
      "execution_count": null,
      "outputs": []
    }
  ],
  "metadata": {
    "colab": {
      "provenance": []
    },
    "kernelspec": {
      "display_name": "Python 3",
      "name": "python3"
    },
    "language_info": {
      "name": "python"
    }
  },
  "nbformat": 4,
  "nbformat_minor": 0
}